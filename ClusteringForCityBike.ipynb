{
 "cells": [
  {
   "cell_type": "markdown",
   "metadata": {},
   "source": [
    "## Import libraries"
   ]
  },
  {
   "cell_type": "code",
   "execution_count": 1,
   "metadata": {},
   "outputs": [],
   "source": [
    "%matplotlib inline\n",
    "import pandas as pd \n",
    "import numpy as np\n",
    "from scipy.spatial.distance import cdist\n",
    "from matplotlib import pyplot as plt\n",
    "from sklearn.cluster import KMeans\n",
    "from sklearn.metrics import silhouette_score,calinski_harabasz_score"
   ]
  },
  {
   "cell_type": "markdown",
   "metadata": {},
   "source": [
    "## Load data"
   ]
  },
  {
   "cell_type": "code",
   "execution_count": 2,
   "metadata": {},
   "outputs": [
    {
     "data": {
      "text/html": [
       "<div>\n",
       "<style scoped>\n",
       "    .dataframe tbody tr th:only-of-type {\n",
       "        vertical-align: middle;\n",
       "    }\n",
       "\n",
       "    .dataframe tbody tr th {\n",
       "        vertical-align: top;\n",
       "    }\n",
       "\n",
       "    .dataframe thead th {\n",
       "        text-align: right;\n",
       "    }\n",
       "</style>\n",
       "<table border=\"1\" class=\"dataframe\">\n",
       "  <thead>\n",
       "    <tr style=\"text-align: right;\">\n",
       "      <th></th>\n",
       "      <th>number</th>\n",
       "      <th>name</th>\n",
       "      <th>address</th>\n",
       "      <th>latitude</th>\n",
       "      <th>longitude</th>\n",
       "    </tr>\n",
       "  </thead>\n",
       "  <tbody>\n",
       "    <tr>\n",
       "      <th>0</th>\n",
       "      <td>122</td>\n",
       "      <td>122 - LOWER RIVER TCE / ELLIS ST</td>\n",
       "      <td>Lower River Tce / Ellis St</td>\n",
       "      <td>-27.482279</td>\n",
       "      <td>153.028723</td>\n",
       "    </tr>\n",
       "    <tr>\n",
       "      <th>1</th>\n",
       "      <td>91</td>\n",
       "      <td>91 - MAIN ST / DARRAGH ST</td>\n",
       "      <td>Main St / Darragh St</td>\n",
       "      <td>-27.470590</td>\n",
       "      <td>153.036046</td>\n",
       "    </tr>\n",
       "    <tr>\n",
       "      <th>2</th>\n",
       "      <td>88</td>\n",
       "      <td>88 - SYDNEY ST FERRY TERMINAL / PARK</td>\n",
       "      <td>Sydney St Ferry Terminal / Park</td>\n",
       "      <td>-27.474531</td>\n",
       "      <td>153.042728</td>\n",
       "    </tr>\n",
       "    <tr>\n",
       "      <th>3</th>\n",
       "      <td>75</td>\n",
       "      <td>75 - BROWNE ST / JAMES ST</td>\n",
       "      <td>Browne St / James St</td>\n",
       "      <td>-27.461881</td>\n",
       "      <td>153.046986</td>\n",
       "    </tr>\n",
       "    <tr>\n",
       "      <th>4</th>\n",
       "      <td>98</td>\n",
       "      <td>98 - KURILPA POINT / MONTAGUE RD</td>\n",
       "      <td>Kurilpa Point / Montague Rd</td>\n",
       "      <td>-27.469658</td>\n",
       "      <td>153.016696</td>\n",
       "    </tr>\n",
       "  </tbody>\n",
       "</table>\n",
       "</div>"
      ],
      "text/plain": [
       "   number                                  name  \\\n",
       "0     122      122 - LOWER RIVER TCE / ELLIS ST   \n",
       "1      91             91 - MAIN ST / DARRAGH ST   \n",
       "2      88  88 - SYDNEY ST FERRY TERMINAL / PARK   \n",
       "3      75             75 - BROWNE ST / JAMES ST   \n",
       "4      98      98 - KURILPA POINT / MONTAGUE RD   \n",
       "\n",
       "                           address   latitude   longitude  \n",
       "0       Lower River Tce / Ellis St -27.482279  153.028723  \n",
       "1             Main St / Darragh St -27.470590  153.036046  \n",
       "2  Sydney St Ferry Terminal / Park -27.474531  153.042728  \n",
       "3             Browne St / James St -27.461881  153.046986  \n",
       "4      Kurilpa Point / Montague Rd -27.469658  153.016696  "
      ]
     },
     "execution_count": 2,
     "metadata": {},
     "output_type": "execute_result"
    }
   ],
   "source": [
    "dataset = pd.read_json('Brisbane_CityBike.json','r',encoding='utf-8')\n",
    "dataset.head()"
   ]
  },
  {
   "cell_type": "code",
   "execution_count": 3,
   "metadata": {},
   "outputs": [
    {
     "data": {
      "text/plain": [
       "(149, 5)"
      ]
     },
     "execution_count": 3,
     "metadata": {},
     "output_type": "execute_result"
    }
   ],
   "source": [
    "dataset.shape"
   ]
  },
  {
   "cell_type": "markdown",
   "metadata": {},
   "source": [
    "## Extract 'latitude' and 'longitude' as features"
   ]
  },
  {
   "cell_type": "code",
   "execution_count": 4,
   "metadata": {},
   "outputs": [
    {
     "data": {
      "text/html": [
       "<div>\n",
       "<style scoped>\n",
       "    .dataframe tbody tr th:only-of-type {\n",
       "        vertical-align: middle;\n",
       "    }\n",
       "\n",
       "    .dataframe tbody tr th {\n",
       "        vertical-align: top;\n",
       "    }\n",
       "\n",
       "    .dataframe thead th {\n",
       "        text-align: right;\n",
       "    }\n",
       "</style>\n",
       "<table border=\"1\" class=\"dataframe\">\n",
       "  <thead>\n",
       "    <tr style=\"text-align: right;\">\n",
       "      <th></th>\n",
       "      <th>latitude</th>\n",
       "      <th>longitude</th>\n",
       "    </tr>\n",
       "  </thead>\n",
       "  <tbody>\n",
       "    <tr>\n",
       "      <th>0</th>\n",
       "      <td>-27.482279</td>\n",
       "      <td>153.028723</td>\n",
       "    </tr>\n",
       "    <tr>\n",
       "      <th>1</th>\n",
       "      <td>-27.470590</td>\n",
       "      <td>153.036046</td>\n",
       "    </tr>\n",
       "    <tr>\n",
       "      <th>2</th>\n",
       "      <td>-27.474531</td>\n",
       "      <td>153.042728</td>\n",
       "    </tr>\n",
       "    <tr>\n",
       "      <th>3</th>\n",
       "      <td>-27.461881</td>\n",
       "      <td>153.046986</td>\n",
       "    </tr>\n",
       "    <tr>\n",
       "      <th>4</th>\n",
       "      <td>-27.469658</td>\n",
       "      <td>153.016696</td>\n",
       "    </tr>\n",
       "  </tbody>\n",
       "</table>\n",
       "</div>"
      ],
      "text/plain": [
       "    latitude   longitude\n",
       "0 -27.482279  153.028723\n",
       "1 -27.470590  153.036046\n",
       "2 -27.474531  153.042728\n",
       "3 -27.461881  153.046986\n",
       "4 -27.469658  153.016696"
      ]
     },
     "execution_count": 4,
     "metadata": {},
     "output_type": "execute_result"
    }
   ],
   "source": [
    "X = dataset.iloc[:,3:5]\n",
    "X.head()"
   ]
  },
  {
   "cell_type": "markdown",
   "metadata": {},
   "source": [
    "## Find the optimal K and build KMeans model"
   ]
  },
  {
   "cell_type": "code",
   "execution_count": 6,
   "metadata": {},
   "outputs": [],
   "source": [
    "# use \"elbow function\" , calinski_harabasz_score and silhouette_score to choose K\n",
    "distortions = []\n",
    "silhouette_scores = []\n",
    "calinski_harabasz_scores = []\n",
    "kRange=range(2,10)\n",
    "for k in kRange:\n",
    "    model = KMeans(n_clusters=k, random_state=9)\n",
    "    y_pred = model.fit_predict(X)\n",
    "    distortion=sum(np.min(cdist(X, model.cluster_centers_, 'euclidean'), axis=1)) / X.shape[0]\n",
    "    distortions.append(distortion)\n",
    "    calinski_harabasz_scores.append(calinski_harabasz_score(X, y_pred))\n",
    "    silhouette_scores.append(silhouette_score(X,y_pred))"
   ]
  },
  {
   "cell_type": "code",
   "execution_count": 7,
   "metadata": {},
   "outputs": [
    {
     "data": {
      "image/png": "[encoded data removed]",
      "text/plain": [
       "<Figure size 432x288 with 1 Axes>"
      ]
     },
     "metadata": {
      "needs_background": "light"
     },
     "output_type": "display_data"
    }
   ],
   "source": [
    "plt.plot(kRange,distortions)\n",
    "plt.xlabel('K')\n",
    "plt.ylabel('distortion')\n",
    "plt.savefig(\"elbow_function.png\") #save the metric curve\n",
    "plt.show()\n",
    "# very hard to find the \"elbow\", maybe k = 3, 4 or 6 is optimal"
   ]
  },
  {
   "cell_type": "code",
   "execution_count": 8,
   "metadata": {},
   "outputs": [
    {
     "data": {
      "image/png": "[encoded data removed]",
      "text/plain": [
       "<Figure size 432x288 with 1 Axes>"
      ]
     },
     "metadata": {
      "needs_background": "light"
     },
     "output_type": "display_data"
    }
   ],
   "source": [
    "plt.plot(kRange,calinski_harabasz_scores)\n",
    "plt.xlabel('K')\n",
    "plt.ylabel('calinski_harabasz_score')\n",
    "plt.savefig(\"calinski_harabasz_score.png\") #save the metric curve\n",
    "plt.show()\n",
    "# calinski_harabasz_score: the bigger the better, k = 3 or 6 is a local optimal"
   ]
  },
  {
   "cell_type": "code",
   "execution_count": 9,
   "metadata": {},
   "outputs": [
    {
     "data": {
      "image/png": "[encoded data removed]",
      "text/plain": [
       "<Figure size 432x288 with 1 Axes>"
      ]
     },
     "metadata": {
      "needs_background": "light"
     },
     "output_type": "display_data"
    }
   ],
   "source": [
    "plt.plot(kRange,silhouette_scores)\n",
    "plt.xlabel('K')\n",
    "plt.ylabel('silhouette_score')\n",
    "plt.savefig(\"silhouette_score.png\") #save the metric curve\n",
    "plt.show()\n",
    "# silhouette_score: the bigger the better, k = 6 is a local optimal"
   ]
  },
  {
   "cell_type": "code",
   "execution_count": 10,
   "metadata": {},
   "outputs": [],
   "source": [
    "# choose k = 6 by considering the 3 metrics\n",
    "model = KMeans(n_clusters=6, random_state=9)\n",
    "y_pred = model.fit_predict(X)"
   ]
  },
  {
   "cell_type": "code",
   "execution_count": 11,
   "metadata": {},
   "outputs": [
    {
     "data": {
      "image/png": "[encoded data removed]",
      "text/plain": [
       "<Figure size 432x288 with 1 Axes>"
      ]
     },
     "metadata": {
      "needs_background": "light"
     },
     "output_type": "display_data"
    }
   ],
   "source": [
    "plt.scatter(X['latitude'], X['longitude'], c=y_pred)\n",
    "plt.xlabel('latitude')\n",
    "plt.ylabel('longitude')\n",
    "plt.savefig(\"result2D.png\") #save clustering result\n",
    "plt.show()"
   ]
  },
  {
   "cell_type": "markdown",
   "metadata": {},
   "source": [
    "## Extract 'number' as feature"
   ]
  },
  {
   "cell_type": "code",
   "execution_count": 12,
   "metadata": {},
   "outputs": [],
   "source": [
    "X = dataset['number']\n",
    "X = X.to_numpy()"
   ]
  },
  {
   "cell_type": "code",
   "execution_count": 13,
   "metadata": {},
   "outputs": [],
   "source": [
    "X = X.reshape(-1,1)"
   ]
  },
  {
   "cell_type": "markdown",
   "metadata": {},
   "source": [
    "## Build KMeans model"
   ]
  },
  {
   "cell_type": "code",
   "execution_count": 14,
   "metadata": {},
   "outputs": [],
   "source": [
    "# clustering 1D data might not be meaningful\n",
    "# but we can still try to see the result\n",
    "kmeans = KMeans(n_clusters=5, random_state=9)\n",
    "y_pred = kmeans.fit_predict(X)"
   ]
  },
  {
   "cell_type": "code",
   "execution_count": 15,
   "metadata": {},
   "outputs": [
    {
     "data": {
      "text/plain": [
       "array([[  20.27027027],\n",
       "       [1101.        ],\n",
       "       [  96.        ],\n",
       "       [  58.5       ],\n",
       "       [ 132.5       ]])"
      ]
     },
     "execution_count": 15,
     "metadata": {},
     "output_type": "execute_result"
    }
   ],
   "source": [
    "kmeans.cluster_centers_"
   ]
  },
  {
   "cell_type": "code",
   "execution_count": 16,
   "metadata": {},
   "outputs": [
    {
     "data": {
      "image/png": "[encoded data removed]",
      "text/plain": [
       "<Figure size 432x288 with 1 Axes>"
      ]
     },
     "metadata": {
      "needs_background": "light"
     },
     "output_type": "display_data"
    }
   ],
   "source": [
    "plt.scatter(X,y_pred, c=y_pred)\n",
    "plt.xlabel('class')\n",
    "plt.ylabel('number')\n",
    "plt.show()\n",
    "# we can see a extreme sample here"
   ]
  },
  {
   "cell_type": "code",
   "execution_count": 17,
   "metadata": {},
   "outputs": [
    {
     "data": {
      "text/plain": [
       "{0: 37, 1: 1, 2: 37, 3: 38, 4: 36}"
      ]
     },
     "execution_count": 17,
     "metadata": {},
     "output_type": "execute_result"
    }
   ],
   "source": [
    "unique,counts=np.unique(kmeans.labels_,return_counts=True)\n",
    "dict(zip(unique,counts)) \n",
    "# take a look for how many samples in each class\n",
    "# there is only one bike station in class 1"
   ]
  },
  {
   "cell_type": "code",
   "execution_count": 18,
   "metadata": {},
   "outputs": [
    {
     "data": {
      "image/png": "[encoded data removed]",
      "text/plain": [
       "<Figure size 432x288 with 1 Axes>"
      ]
     },
     "metadata": {
      "needs_background": "light"
     },
     "output_type": "display_data"
    }
   ],
   "source": [
    "# clustering result for k = 2\n",
    "kmeans = KMeans(n_clusters=2, random_state=9)\n",
    "y_pred = kmeans.fit_predict(X)\n",
    "plt.scatter(X,y_pred, c=y_pred)\n",
    "plt.xlabel('class')\n",
    "plt.ylabel('number')\n",
    "plt.savefig(\"result1D.png\")\n",
    "plt.show()\n",
    "# So the conclusion is that k = 2 is optimal for 1D clustering in \"number\"\n",
    "# For the extreme big station, we can call it 'Super Station'\n",
    "# For the rest, we can call them 'Normal Station'"
   ]
  }
 ],
 "metadata": {
  "kernelspec": {
   "display_name": "Python 3",
   "language": "python",
   "name": "python3"
  },
  "language_info": {
   "codemirror_mode": {
    "name": "ipython",
    "version": 3
   },
   "file_extension": ".py",
   "mimetype": "text/x-python",
   "name": "python",
   "nbconvert_exporter": "python",
   "pygments_lexer": "ipython3",
   "version": "3.7.5"
  }
 },
 "nbformat": 4,
 "nbformat_minor": 2
}
